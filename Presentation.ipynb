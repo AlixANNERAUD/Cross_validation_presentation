{
 "cells": [
  {
   "cell_type": "markdown",
   "id": "56befbab",
   "metadata": {
    "slideshow": {
     "slide_type": "skip"
    }
   },
   "source": [
    "Pour démarer la présentation : `jupyter nbconvert --config=Configuration.py Presentation.ipynb`"
   ]
  },
  {
   "cell_type": "markdown",
   "id": "c4f1e596",
   "metadata": {
    "slideshow": {
     "slide_type": "slide"
    }
   },
   "source": [
    "# Validation croisée ✅\n",
    "\n",
    "Présenté par Alix ANNERAUD et Hugo TONDENIER."
   ]
  },
  {
   "cell_type": "markdown",
   "id": "e67aad12",
   "metadata": {
    "slideshow": {
     "slide_type": "slide"
    }
   },
   "source": [
    "# 1. Principe 🔍\n",
    "\n",
    "Qu'est-ce que la validation croisée et pourquoi est-elle utile ?"
   ]
  },
  {
   "cell_type": "markdown",
   "id": "43bb5047",
   "metadata": {
    "slideshow": {
     "slide_type": "subslide"
    }
   },
   "source": [
    "## 🤖 Réponse de ChatGPT 4o\n",
    "\n",
    "La vérification croisée, aussi connue sous le nom de validation croisée, est une technique utilisée en machine learning pour évaluer la performance d'un modèle. L'objectif principal est de vérifier comment les résultats d'un modèle généré à partir d'un jeu de données donné vont généraliser sur un jeu de données indépendant. Voici comment cela fonctionne en général :\n",
    "\n",
    "### Processus de Validation Croisée :\n",
    "\n",
    "1. **Division des Données** :\n",
    "   Le jeu de données initial est divisé en plusieurs sous-ensembles ou \"folds\". Une division courante est la validation croisée k-fold, où les données sont divisées en k sous-ensembles.\n",
    "\n",
    "2. **Entraînement et Validation** :\n",
    "   Pour chaque itération, un des k sous-ensembles est utilisé comme jeu de validation, et les k-1 autres sous-ensembles sont utilisés comme jeu d'entraînement. Ce processus est répété k fois, chaque sous-ensemble servant exactement une fois de jeu de validation.\n",
    "\n",
    "3. **Évaluation** :\n",
    "   À chaque itération, le modèle est évalué sur le jeu de validation et les performances (par exemple, précision, rappel, F1-score) sont enregistrées.\n",
    "\n",
    "4. **Agrégation des Résultats** :\n",
    "   Après k itérations, les résultats des k évaluations sont agrégés pour donner une estimation globale de la performance du modèle. Cela peut être fait en calculant la moyenne des performances des k itérations.\n",
    "\n",
    "### Avantages de la Validation Croisée :\n",
    "\n",
    "- **Réduction de l'Overfitting** :\n",
    "  En utilisant différents sous-ensembles pour l'entraînement et la validation, la validation croisée aide à réduire le risque de surapprentissage (overfitting) sur un jeu de données spécifique.\n",
    "  \n",
    "- **Utilisation Optimale des Données** :\n",
    "  Toutes les données sont utilisées à la fois pour l'entraînement et pour la validation, ce qui est particulièrement avantageux lorsque le jeu de données est petit.\n",
    "\n",
    "### Types de Validation Croisée :\n",
    "\n",
    "- **k-fold Cross-Validation** :\n",
    "  Le jeu de données est divisé en k sous-ensembles de taille égale. C'est la méthode la plus couramment utilisée.\n",
    "\n",
    "- **Leave-One-Out Cross-Validation (LOOCV)** :\n",
    "  Une forme extrême de k-fold où k est égal au nombre de données dans le jeu de données (chaque donnée est utilisée une fois pour la validation, et toutes les autres pour l'entraînement).\n",
    "\n",
    "- **Stratified k-fold Cross-Validation** :\n",
    "  Une version de la validation croisée k-fold où chaque fold contient environ la même proportion des différentes classes de la variable cible, ce qui est particulièrement utile pour les jeux de données déséquilibrés.\n",
    "\n",
    "- **Repeated k-fold Cross-Validation** :\n",
    "  Une variation où la validation croisée k-fold est répétée plusieurs fois, avec des divisions différentes à chaque répétition, et les résultats sont moyennés.\n",
    "\n",
    "### Exemple Pratique :\n",
    "\n",
    "Supposons que nous ayons un jeu de données avec 100 observations. Si nous effectuons une validation croisée 5-fold :\n",
    "\n",
    "1. Diviser les 100 observations en 5 sous-ensembles de 20 observations chacun.\n",
    "2. Entraîner le modèle sur 80 observations et le tester sur les 20 restantes, répéter ce processus 5 fois en changeant à chaque fois le jeu de validation.\n",
    "3. Calculer la performance moyenne des 5 évaluations.\n",
    "\n",
    "### Conclusion :\n",
    "\n",
    "La validation croisée est un outil essentiel pour obtenir une évaluation robuste et fiable de la performance d'un modèle de machine learning, en s'assurant qu'il généralise bien à des données non vues."
   ]
  },
  {
   "cell_type": "markdown",
   "id": "296bab15",
   "metadata": {
    "slideshow": {
     "slide_type": "subslide"
    }
   },
   "source": [
    "## 🏃 Entraînement d'un modèle\n",
    "\n",
    "```mermaid\n",
    "flowchart TB\n",
    "\n",
    "\n",
    "subgraph Modèle\n",
    "    direction TB\n",
    "\n",
    "    Modele[Modèle] --> Entrainement[Entraînement]\n",
    "    Entrainement --> ModeleEntraine[Modèle entraîné]\n",
    "    ModeleEntraine --> ValidationCroisee[Validation croisée] \n",
    "    ValidationCroisee --> ModeleOptimal[Modèle optimal]\n",
    "\n",
    "    ValidationCroisee --> Entrainement\n",
    "\n",
    "    ModeleOptimal --> Evaluation[Evaluation]\n",
    "\n",
    "  \n",
    "\n",
    "        Jeu[Jeu de données]\n",
    "        JeuApprentissage[Jeu d'apprentissage]\n",
    "        JeuTest[Jeu de test]\n",
    "        JeuValidation[Jeu de validation]\n",
    "\n",
    "        Jeu --> JeuApprentissage[Jeu d'apprentissage]\n",
    "        Jeu --> JeuTest[Jeu de test]\n",
    "        Jeu --> JeuValidation[Jeu de validation]\n",
    "  \n",
    "    JeuApprentissage --> Entrainement\n",
    "    JeuValidation --> ValidationCroisee\n",
    "    JeuTest --> Evaluation\n",
    "\n",
    "end\n",
    "\n",
    "\n",
    "```"
   ]
  },
  {
   "cell_type": "markdown",
   "id": "3ec1362d",
   "metadata": {
    "slideshow": {
     "slide_type": "subslide"
    }
   },
   "source": [
    "### ➗ Division des données\n",
    "Constitution des jeux de données\n",
    "\n",
    "Diviser le jeu de données en 3 parties : apprentissage, validation et test."
   ]
  },
  {
   "cell_type": "markdown",
   "id": "60de18ed",
   "metadata": {
    "slideshow": {
     "slide_type": "fragment"
    }
   },
   "source": [
    "#### K-Fold\n",
    "\n",
    "On divise le jeu de données en $K$ sous-ensembles.\n",
    "1. **Entraînement** : sur $K-1$ sous-ensembles\n",
    "2. **Test** : le sous-ensemble restant.\n",
    "\n",
    "On répète l'opération $K$ fois en changeant le sous-ensemble de test à chaque fois."
   ]
  },
  {
   "cell_type": "markdown",
   "id": "ff1473bc",
   "metadata": {
    "slideshow": {
     "slide_type": "fragment"
    }
   },
   "source": [
    "#### Shuffle split\n",
    "\n",
    "On divise le jeu de données en $n$ sous-ensembles.\n",
    "\n",
    "1. **Entraînement** : sur $n-1$ sous-ensembles\n",
    "2. **Test** : le sous-ensemble restant.\n",
    "\n",
    "On répète l'opération $n$ fois.\n"
   ]
  },
  {
   "cell_type": "markdown",
   "id": "7cd9fe44",
   "metadata": {
    "slideshow": {
     "slide_type": "slide"
    }
   },
   "source": [
    "# 2. Exemple 👀"
   ]
  },
  {
   "cell_type": "markdown",
   "id": "3fce477f-5492-4dde-bd95-6b128cd6b9dc",
   "metadata": {
    "slideshow": {
     "slide_type": "subslide"
    }
   },
   "source": [
    "## 📥 Chargement des données"
   ]
  },
  {
   "cell_type": "code",
   "execution_count": 1,
   "id": "77e2abfe-8996-4bc2-92a8-c42d978ad55a",
   "metadata": {
    "slideshow": {
     "slide_type": "skip"
    }
   },
   "outputs": [],
   "source": [
    "from sklearn import datasets, metrics, svm\n",
    "import matplotlib.pyplot as plt\n",
    "import numpy as np\n",
    "from sklearn.model_selection import train_test_split, GridSearchCV\n",
    "from sklearn.svm import SVC\n",
    "from sklearn.metrics import classification_report, accuracy_score\n",
    "from sklearn.linear_model import LogisticRegression\n",
    "from sklearn.model_selection import cross_val_score"
   ]
  },
  {
   "cell_type": "code",
   "execution_count": 2,
   "id": "d3cdc02e-f897-4939-be0b-00d8a23c743e",
   "metadata": {
    "slideshow": {
     "slide_type": "fragment"
    }
   },
   "outputs": [
    {
     "data": {
      "image/png": "[encoded data removed]",
      "text/plain": [
       "<Figure size 1000x500 with 6 Axes>"
      ]
     },
     "metadata": {},
     "output_type": "display_data"
    }
   ],
   "source": [
    "chiffres = datasets.load_digits()   # Importation du jeu de données\n",
    "\n",
    "# Affichage des 6 premières images\n",
    "_, axes = plt.subplots(nrows=1, ncols=6, figsize=(10, 5))\n",
    "for ax, image, label in zip(axes, chiffres.images, chiffres.target):\n",
    "    ax.set_axis_off()\n",
    "    ax.imshow(image, cmap=plt.cm.gray_r)\n",
    "    ax.set_title(\"%i\" % label)"
   ]
  },
  {
   "cell_type": "markdown",
   "id": "72391738-2c39-43e3-9aec-ea5a0dcc0ea2",
   "metadata": {
    "slideshow": {
     "slide_type": "subslide"
    }
   },
   "source": [
    "## 📊 Préparation des données"
   ]
  },
  {
   "cell_type": "code",
   "execution_count": 3,
   "id": "3e448a15-9f19-44aa-bdd0-0a53911ac625",
   "metadata": {
    "slideshow": {
     "slide_type": "fragment"
    }
   },
   "outputs": [],
   "source": [
    "# \"Aplatissement\" des images (2D) en vecteurs de caractéristiques (1D)\n",
    "n_samples = len(chiffres.images)\n",
    "data = chiffres.images.reshape((n_samples, -1))\n",
    "\n",
    "# Division en ensembles d'entraînement et de test\n",
    "X_entrainement, X_test, y_entrainement, y_test = train_test_split(data, chiffres.target, test_size=0.3, shuffle=False)\n"
   ]
  },
  {
   "cell_type": "markdown",
   "id": "04b79795-bf24-4aed-b589-a685f00b279f",
   "metadata": {
    "slideshow": {
     "slide_type": "subslide"
    }
   },
   "source": [
    "## 📈 Regression logistique\n",
    "montrer le réglage de l'hyperparamètre max_iter 30 est mieux que 1000 pour le train set et le test set définis ici  \n",
    "remonter un mettre shuffle = True dans le test split  \n",
    "agrandir réduire la taille du test set pour avoir plus de donnée d'entrainement "
   ]
  },
  {
   "cell_type": "code",
   "execution_count": 5,
   "id": "a7069d3c-c2e5-4c40-a94c-cc25907337f8",
   "metadata": {
    "slideshow": {
     "slide_type": "fragment"
    }
   },
   "outputs": [
    {
     "name": "stdout",
     "output_type": "stream",
     "text": [
      "Précision: 92.04%\n"
     ]
    },
    {
     "name": "stderr",
     "output_type": "stream",
     "text": [
      "/usr/lib/python3/dist-packages/sklearn/linear_model/_logistic.py:458: ConvergenceWarning: lbfgs failed to converge (status=1):\n",
      "STOP: TOTAL NO. of ITERATIONS REACHED LIMIT.\n",
      "\n",
      "Increase the number of iterations (max_iter) or scale the data as shown in:\n",
      "    https://scikit-learn.org/stable/modules/preprocessing.html\n",
      "Please also refer to the documentation for alternative solver options:\n",
      "    https://scikit-learn.org/stable/modules/linear_model.html#logistic-regression\n",
      "  n_iter_i = _check_optimize_result(\n"
     ]
    }
   ],
   "source": [
    "# - Création et entraînement du modèle\n",
    "clf = LogisticRegression(max_iter=1000) # max_iter est l'hyperparamètre que l'on veut régler\n",
    "clf.fit(X_entrainement, y_entrainement)\n",
    "\n",
    "# Prédiction du model sur le jeu de test\n",
    "prediction = clf.predict(X_test)\n",
    "\n",
    "# Calcul de la précision du modèle\n",
    "precision = accuracy_score(y_test, prediction)\n",
    "print(\"Précision: {:.2f}%\".format(precision * 100))"
   ]
  },
  {
   "cell_type": "code",
   "execution_count": null,
   "id": "9b742431-7438-4c3d-b20c-0369959e56a9",
   "metadata": {
    "slideshow": {
     "slide_type": "fragment"
    }
   },
   "outputs": [
    {
     "data": {
      "image/png": "[encoded data removed]",
      "text/plain": [
       "<Figure size 1000x500 with 6 Axes>"
      ]
     },
     "metadata": {},
     "output_type": "display_data"
    }
   ],
   "source": [
    "_, axes = plt.subplots(nrows=1, ncols=6, figsize=(10, 5))\n",
    "for ax, image, prediction, true_label in zip(axes, X_test.reshape(-1, 8, 8), prediction, y_test):\n",
    "    ax.set_axis_off()\n",
    "    ax.imshow(image, cmap=plt.cm.gray_r, interpolation='nearest')\n",
    "    ax.set_title(f'Pred: {prediction}, Vrai: {true_label}')"
   ]
  },
  {
   "cell_type": "code",
   "execution_count": null,
   "id": "99e4b610",
   "metadata": {},
   "outputs": [
    {
     "name": "stdout",
     "output_type": "stream",
     "text": [
      "Précision: 91.85%\n"
     ]
    },
    {
     "name": "stderr",
     "output_type": "stream",
     "text": [
      "/usr/lib/python3/dist-packages/sklearn/linear_model/_logistic.py:458: ConvergenceWarning: lbfgs failed to converge (status=1):\n",
      "STOP: TOTAL NO. of ITERATIONS REACHED LIMIT.\n",
      "\n",
      "Increase the number of iterations (max_iter) or scale the data as shown in:\n",
      "    https://scikit-learn.org/stable/modules/preprocessing.html\n",
      "Please also refer to the documentation for alternative solver options:\n",
      "    https://scikit-learn.org/stable/modules/linear_model.html#logistic-regression\n",
      "  n_iter_i = _check_optimize_result(\n"
     ]
    }
   ],
   "source": [
    "# - Création et entraînement du modèle\n",
    "clf = LogisticRegression(max_iter=30) # max_iter est l'hyperparamètre que l'on veut régler\n",
    "clf.fit(X_train, y_train)\n",
    "\n",
    "# Prédiction du model sur le jeu de test\n",
    "prediction = clf.predict(X_test)\n",
    "\n",
    "# Calcul de la précision du modèle\n",
    "precision = accuracy_score(y_test, prediction)\n",
    "print(\"Précision: {:.2f}%\".format(precision * 100))"
   ]
  },
  {
   "cell_type": "markdown",
   "id": "b7a1da9b-e8df-43fa-8a9f-befb258d7928",
   "metadata": {
    "slideshow": {
     "slide_type": "subslide"
    }
   },
   "source": [
    "## Intervention de la Validation Croisée"
   ]
  },
  {
   "cell_type": "code",
   "execution_count": null,
   "id": "6973896d-82f8-4437-af7b-46bd329ec3e2",
   "metadata": {
    "slideshow": {
     "slide_type": "fragment"
    }
   },
   "outputs": [
    {
     "name": "stderr",
     "output_type": "stream",
     "text": [
      "/usr/lib/python3/dist-packages/sklearn/linear_model/_logistic.py:458: ConvergenceWarning: lbfgs failed to converge (status=1):\n",
      "STOP: TOTAL NO. of ITERATIONS REACHED LIMIT.\n",
      "\n",
      "Increase the number of iterations (max_iter) or scale the data as shown in:\n",
      "    https://scikit-learn.org/stable/modules/preprocessing.html\n",
      "Please also refer to the documentation for alternative solver options:\n",
      "    https://scikit-learn.org/stable/modules/linear_model.html#logistic-regression\n",
      "  n_iter_i = _check_optimize_result(\n",
      "/usr/lib/python3/dist-packages/sklearn/linear_model/_logistic.py:458: ConvergenceWarning: lbfgs failed to converge (status=1):\n",
      "STOP: TOTAL NO. of ITERATIONS REACHED LIMIT.\n",
      "\n",
      "Increase the number of iterations (max_iter) or scale the data as shown in:\n",
      "    https://scikit-learn.org/stable/modules/preprocessing.html\n",
      "Please also refer to the documentation for alternative solver options:\n",
      "    https://scikit-learn.org/stable/modules/linear_model.html#logistic-regression\n",
      "  n_iter_i = _check_optimize_result(\n",
      "/usr/lib/python3/dist-packages/sklearn/linear_model/_logistic.py:458: ConvergenceWarning: lbfgs failed to converge (status=1):\n",
      "STOP: TOTAL NO. of ITERATIONS REACHED LIMIT.\n",
      "\n",
      "Increase the number of iterations (max_iter) or scale the data as shown in:\n",
      "    https://scikit-learn.org/stable/modules/preprocessing.html\n",
      "Please also refer to the documentation for alternative solver options:\n",
      "    https://scikit-learn.org/stable/modules/linear_model.html#logistic-regression\n",
      "  n_iter_i = _check_optimize_result(\n",
      "/usr/lib/python3/dist-packages/sklearn/linear_model/_logistic.py:458: ConvergenceWarning: lbfgs failed to converge (status=1):\n",
      "STOP: TOTAL NO. of ITERATIONS REACHED LIMIT.\n",
      "\n",
      "Increase the number of iterations (max_iter) or scale the data as shown in:\n",
      "    https://scikit-learn.org/stable/modules/preprocessing.html\n",
      "Please also refer to the documentation for alternative solver options:\n",
      "    https://scikit-learn.org/stable/modules/linear_model.html#logistic-regression\n",
      "  n_iter_i = _check_optimize_result(\n"
     ]
    },
    {
     "name": "stdout",
     "output_type": "stream",
     "text": [
      "Scores de précision pour chaque fold:  [0.91388889 0.86944444 0.93871866 0.93314763 0.91086351]\n",
      "Moyenne: 91.32%\n"
     ]
    },
    {
     "name": "stderr",
     "output_type": "stream",
     "text": [
      "/usr/lib/python3/dist-packages/sklearn/linear_model/_logistic.py:458: ConvergenceWarning: lbfgs failed to converge (status=1):\n",
      "STOP: TOTAL NO. of ITERATIONS REACHED LIMIT.\n",
      "\n",
      "Increase the number of iterations (max_iter) or scale the data as shown in:\n",
      "    https://scikit-learn.org/stable/modules/preprocessing.html\n",
      "Please also refer to the documentation for alternative solver options:\n",
      "    https://scikit-learn.org/stable/modules/linear_model.html#logistic-regression\n",
      "  n_iter_i = _check_optimize_result(\n"
     ]
    }
   ],
   "source": [
    "\n",
    "# Validation croisée de l'accuracy\n",
    "accuracy_scores = cross_val_score(clf, data, chiffres.target, cv=5, scoring='accuracy')\n",
    "\n",
    "print(\"Scores de précision pour chaque fold: \", accuracy_scores)\n",
    "print(\"Moyenne: {:.2f}%\".format(accuracy_scores.mean() * 100))"
   ]
  },
  {
   "cell_type": "markdown",
   "id": "8bf25da5-8cf3-4c0f-ab33-f8c5341236e3",
   "metadata": {
    "slideshow": {
     "slide_type": "subslide"
    }
   },
   "source": [
    "## Cas concret de recherche des paramètre avec un SVC  \n",
    "la fonction gridsearchCV calcule des scores en utilisant la validation croisé pour une matrice de paramètres "
   ]
  },
  {
   "cell_type": "code",
   "execution_count": null,
   "id": "8685baf6-b0e5-4f69-86b0-7ab6982a27d3",
   "metadata": {
    "slideshow": {
     "slide_type": "fragment"
    }
   },
   "outputs": [
    {
     "name": "stdout",
     "output_type": "stream",
     "text": [
      "Fitting 5 folds for each of 48 candidates, totalling 240 fits\n"
     ]
    },
    {
     "data": {
      "text/html": [
       "<style>#sk-container-id-1 {color: black;background-color: white;}#sk-container-id-1 pre{padding: 0;}#sk-container-id-1 div.sk-toggleable {background-color: white;}#sk-container-id-1 label.sk-toggleable__label {cursor: pointer;display: block;width: 100%;margin-bottom: 0;padding: 0.3em;box-sizing: border-box;text-align: center;}#sk-container-id-1 label.sk-toggleable__label-arrow:before {content: \"▸\";float: left;margin-right: 0.25em;color: #696969;}#sk-container-id-1 label.sk-toggleable__label-arrow:hover:before {color: black;}#sk-container-id-1 div.sk-estimator:hover label.sk-toggleable__label-arrow:before {color: black;}#sk-container-id-1 div.sk-toggleable__content {max-height: 0;max-width: 0;overflow: hidden;text-align: left;background-color: #f0f8ff;}#sk-container-id-1 div.sk-toggleable__content pre {margin: 0.2em;color: black;border-radius: 0.25em;background-color: #f0f8ff;}#sk-container-id-1 input.sk-toggleable__control:checked~div.sk-toggleable__content {max-height: 200px;max-width: 100%;overflow: auto;}#sk-container-id-1 input.sk-toggleable__control:checked~label.sk-toggleable__label-arrow:before {content: \"▾\";}#sk-container-id-1 div.sk-estimator input.sk-toggleable__control:checked~label.sk-toggleable__label {background-color: #d4ebff;}#sk-container-id-1 div.sk-label input.sk-toggleable__control:checked~label.sk-toggleable__label {background-color: #d4ebff;}#sk-container-id-1 input.sk-hidden--visually {border: 0;clip: rect(1px 1px 1px 1px);clip: rect(1px, 1px, 1px, 1px);height: 1px;margin: -1px;overflow: hidden;padding: 0;position: absolute;width: 1px;}#sk-container-id-1 div.sk-estimator {font-family: monospace;background-color: #f0f8ff;border: 1px dotted black;border-radius: 0.25em;box-sizing: border-box;margin-bottom: 0.5em;}#sk-container-id-1 div.sk-estimator:hover {background-color: #d4ebff;}#sk-container-id-1 div.sk-parallel-item::after {content: \"\";width: 100%;border-bottom: 1px solid gray;flex-grow: 1;}#sk-container-id-1 div.sk-label:hover label.sk-toggleable__label {background-color: #d4ebff;}#sk-container-id-1 div.sk-serial::before {content: \"\";position: absolute;border-left: 1px solid gray;box-sizing: border-box;top: 0;bottom: 0;left: 50%;z-index: 0;}#sk-container-id-1 div.sk-serial {display: flex;flex-direction: column;align-items: center;background-color: white;padding-right: 0.2em;padding-left: 0.2em;position: relative;}#sk-container-id-1 div.sk-item {position: relative;z-index: 1;}#sk-container-id-1 div.sk-parallel {display: flex;align-items: stretch;justify-content: center;background-color: white;position: relative;}#sk-container-id-1 div.sk-item::before, #sk-container-id-1 div.sk-parallel-item::before {content: \"\";position: absolute;border-left: 1px solid gray;box-sizing: border-box;top: 0;bottom: 0;left: 50%;z-index: -1;}#sk-container-id-1 div.sk-parallel-item {display: flex;flex-direction: column;z-index: 1;position: relative;background-color: white;}#sk-container-id-1 div.sk-parallel-item:first-child::after {align-self: flex-end;width: 50%;}#sk-container-id-1 div.sk-parallel-item:last-child::after {align-self: flex-start;width: 50%;}#sk-container-id-1 div.sk-parallel-item:only-child::after {width: 0;}#sk-container-id-1 div.sk-dashed-wrapped {border: 1px dashed gray;margin: 0 0.4em 0.5em 0.4em;box-sizing: border-box;padding-bottom: 0.4em;background-color: white;}#sk-container-id-1 div.sk-label label {font-family: monospace;font-weight: bold;display: inline-block;line-height: 1.2em;}#sk-container-id-1 div.sk-label-container {text-align: center;}#sk-container-id-1 div.sk-container {/* jupyter's `normalize.less` sets `[hidden] { display: none; }` but bootstrap.min.css set `[hidden] { display: none !important; }` so we also need the `!important` here to be able to override the default hidden behavior on the sphinx rendered scikit-learn.org. See: https://github.com/scikit-learn/scikit-learn/issues/21755 */display: inline-block !important;position: relative;}#sk-container-id-1 div.sk-text-repr-fallback {display: none;}</style><div id=\"sk-container-id-1\" class=\"sk-top-container\"><div class=\"sk-text-repr-fallback\"><pre>GridSearchCV(cv=5, estimator=SVC(),\n",
       "             param_grid={&#x27;C&#x27;: [0.1, 1, 10, 100], &#x27;gamma&#x27;: [0.001, 0.01, 0.1, 1],\n",
       "                         &#x27;kernel&#x27;: [&#x27;rbf&#x27;, &#x27;poly&#x27;, &#x27;sigmoid&#x27;]},\n",
       "             scoring=&#x27;accuracy&#x27;, verbose=1)</pre><b>In a Jupyter environment, please rerun this cell to show the HTML representation or trust the notebook. <br />On GitHub, the HTML representation is unable to render, please try loading this page with nbviewer.org.</b></div><div class=\"sk-container\" hidden><div class=\"sk-item sk-dashed-wrapped\"><div class=\"sk-label-container\"><div class=\"sk-label sk-toggleable\"><input class=\"sk-toggleable__control sk-hidden--visually\" id=\"sk-estimator-id-1\" type=\"checkbox\" ><label for=\"sk-estimator-id-1\" class=\"sk-toggleable__label sk-toggleable__label-arrow\">GridSearchCV</label><div class=\"sk-toggleable__content\"><pre>GridSearchCV(cv=5, estimator=SVC(),\n",
       "             param_grid={&#x27;C&#x27;: [0.1, 1, 10, 100], &#x27;gamma&#x27;: [0.001, 0.01, 0.1, 1],\n",
       "                         &#x27;kernel&#x27;: [&#x27;rbf&#x27;, &#x27;poly&#x27;, &#x27;sigmoid&#x27;]},\n",
       "             scoring=&#x27;accuracy&#x27;, verbose=1)</pre></div></div></div><div class=\"sk-parallel\"><div class=\"sk-parallel-item\"><div class=\"sk-item\"><div class=\"sk-label-container\"><div class=\"sk-label sk-toggleable\"><input class=\"sk-toggleable__control sk-hidden--visually\" id=\"sk-estimator-id-2\" type=\"checkbox\" ><label for=\"sk-estimator-id-2\" class=\"sk-toggleable__label sk-toggleable__label-arrow\">estimator: SVC</label><div class=\"sk-toggleable__content\"><pre>SVC()</pre></div></div></div><div class=\"sk-serial\"><div class=\"sk-item\"><div class=\"sk-estimator sk-toggleable\"><input class=\"sk-toggleable__control sk-hidden--visually\" id=\"sk-estimator-id-3\" type=\"checkbox\" ><label for=\"sk-estimator-id-3\" class=\"sk-toggleable__label sk-toggleable__label-arrow\">SVC</label><div class=\"sk-toggleable__content\"><pre>SVC()</pre></div></div></div></div></div></div></div></div></div></div>"
      ],
      "text/plain": [
       "GridSearchCV(cv=5, estimator=SVC(),\n",
       "             param_grid={'C': [0.1, 1, 10, 100], 'gamma': [0.001, 0.01, 0.1, 1],\n",
       "                         'kernel': ['rbf', 'poly', 'sigmoid']},\n",
       "             scoring='accuracy', verbose=1)"
      ]
     },
     "execution_count": 9,
     "metadata": {},
     "output_type": "execute_result"
    }
   ],
   "source": [
    "param_grid = {\n",
    "    'C': [0.1, 1, 10, 100],  # Plus C est élevé, plus la régularisation est faible\n",
    "    'gamma': [0.001, 0.01, 0.1, 1],  # Plus gamma est élevé, plus le modèle est complexe\n",
    "    'kernel': ['rbf', 'poly', 'sigmoid']  # Types de noyaux à tester\n",
    "}\n",
    "\n",
    "# Création du modèle SVM avec GridSearchCV\n",
    "svm = SVC()\n",
    "grid_search = GridSearchCV(svm, param_grid, cv=5, scoring='accuracy', verbose=1)\n",
    "grid_search.fit(X_train, y_train)"
   ]
  },
  {
   "cell_type": "code",
   "execution_count": null,
   "id": "6ba78e89-18f2-4ce2-bba7-f5411fa684b3",
   "metadata": {
    "slideshow": {
     "slide_type": "fragment"
    }
   },
   "outputs": [
    {
     "name": "stdout",
     "output_type": "stream",
     "text": [
      "Best parameters found:  {'C': 1, 'gamma': 0.001, 'kernel': 'rbf'}\n",
      "Accuracy: 97.04%\n"
     ]
    }
   ],
   "source": [
    "# Affichage des meilleurs paramètres\n",
    "print(\"Best parameters found: \", grid_search.best_params_)\n",
    "best_svm = grid_search.best_estimator_\n",
    "\n",
    "# Prédiction et évaluation sur l'ensemble de test\n",
    "predictions = best_svm.predict(X_test)\n",
    "print(\"Accuracy: {:.2f}%\".format(accuracy_score(y_test, predictions) * 100))"
   ]
  },
  {
   "cell_type": "markdown",
   "id": "bcea17e9",
   "metadata": {
    "slideshow": {
     "slide_type": "slide"
    }
   },
   "source": [
    "# Merci de votre attention 👏"
   ]
  }
 ],
 "metadata": {
  "kernelspec": {
   "display_name": ".python_virtual_environment",
   "language": "python",
   "name": ".python_virtual_environment"
  },
  "language_info": {
   "codemirror_mode": {
    "name": "ipython",
    "version": 3
   },
   "file_extension": ".py",
   "mimetype": "text/x-python",
   "name": "python",
   "nbconvert_exporter": "python",
   "pygments_lexer": "ipython3",
   "version": "3.11.6"
  }
 },
 "nbformat": 4,
 "nbformat_minor": 5
}
